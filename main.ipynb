{
 "cells": [
  {
   "cell_type": "code",
   "execution_count": 4,
   "metadata": {},
   "outputs": [
    {
     "name": "stdout",
     "output_type": "stream",
     "text": [
      "['ï»¿No;Outlook;Temperature;Humidity;Windy;Play']\n",
      "['1;sunny;hot;high;FALSE;no']\n",
      "['2;sunny;hot;high;TRUE;no']\n",
      "['3;cloudy;hot;high;FALSE;yes']\n",
      "['4;rainy;mild;high;FALSE;yes']\n",
      "['5;rainy;cool;normal;FALSE;yes']\n",
      "['6;rainy;cool;normal;TRUE;yes']\n",
      "['7;cloudy;cool;normal;TRUE;yes']\n",
      "['8;sunny;mild;high;FALSE;no']\n",
      "['9;sunny;cool;normal;FALSE;yes']\n",
      "['10;rainy;mild;normal;FALSE;yes']\n",
      "['11;sunny;mild;normal;TRUE;yes']\n",
      "['12;cloudy;mild;high;TRUE;yes']\n",
      "['13;cloudy;hot;normal;FALSE;yes']\n",
      "['14;rainy;mild;high;TRUE;no']\n"
     ]
    }
   ],
   "source": [
    "# import library \n",
    "\n",
    "import csv\n",
    "\n",
    "with open('Golf.csv', 'r') as csv_file:\n",
    "    reader = csv.reader(csv_file)\n",
    "\n",
    "    for row in reader: \n",
    "        print(row)\n",
    "    csv_file.close()\n"
   ]
  },
  {
   "cell_type": "code",
   "execution_count": 7,
   "metadata": {},
   "outputs": [
    {
     "data": {
      "text/html": [
       "<div>\n",
       "<style scoped>\n",
       "    .dataframe tbody tr th:only-of-type {\n",
       "        vertical-align: middle;\n",
       "    }\n",
       "\n",
       "    .dataframe tbody tr th {\n",
       "        vertical-align: top;\n",
       "    }\n",
       "\n",
       "    .dataframe thead th {\n",
       "        text-align: right;\n",
       "    }\n",
       "</style>\n",
       "<table border=\"1\" class=\"dataframe\">\n",
       "  <thead>\n",
       "    <tr style=\"text-align: right;\">\n",
       "      <th></th>\n",
       "      <th>No;Outlook;Temperature;Humidity;Windy;Play</th>\n",
       "    </tr>\n",
       "  </thead>\n",
       "  <tbody>\n",
       "    <tr>\n",
       "      <th>0</th>\n",
       "      <td>1;sunny;hot;high;FALSE;no</td>\n",
       "    </tr>\n",
       "    <tr>\n",
       "      <th>1</th>\n",
       "      <td>2;sunny;hot;high;TRUE;no</td>\n",
       "    </tr>\n",
       "    <tr>\n",
       "      <th>2</th>\n",
       "      <td>3;cloudy;hot;high;FALSE;yes</td>\n",
       "    </tr>\n",
       "    <tr>\n",
       "      <th>3</th>\n",
       "      <td>4;rainy;mild;high;FALSE;yes</td>\n",
       "    </tr>\n",
       "    <tr>\n",
       "      <th>4</th>\n",
       "      <td>5;rainy;cool;normal;FALSE;yes</td>\n",
       "    </tr>\n",
       "  </tbody>\n",
       "</table>\n",
       "</div>"
      ],
      "text/plain": [
       "  No;Outlook;Temperature;Humidity;Windy;Play\n",
       "0                  1;sunny;hot;high;FALSE;no\n",
       "1                   2;sunny;hot;high;TRUE;no\n",
       "2                3;cloudy;hot;high;FALSE;yes\n",
       "3                4;rainy;mild;high;FALSE;yes\n",
       "4              5;rainy;cool;normal;FALSE;yes"
      ]
     },
     "execution_count": 7,
     "metadata": {},
     "output_type": "execute_result"
    }
   ],
   "source": [
    "# read CSV with pandas \n",
    "\n",
    "import pandas as pd \n",
    "\n",
    "df = pd.read_csv('Golf.csv')\n",
    "df.head()"
   ]
  },
  {
   "cell_type": "code",
   "execution_count": null,
   "metadata": {},
   "outputs": [],
   "source": [
    "# rumus menghitung Algoritma C45 / Decision Tree \n",
    "# Entrophy(s) = Sigma-(p(l).log2(l))\n",
    "# Gain (S, A) = Entrophy(S) -Sigma[p(S|A).Entropy(S|A)]\n",
    "\n"
   ]
  }
 ],
 "metadata": {
  "interpreter": {
   "hash": "4f8763616d36299a7e67065bbff61b4594b946871d4c1b06c8acd4b8a7e0d76f"
  },
  "kernelspec": {
   "display_name": "Python 3.9.10 64-bit",
   "language": "python",
   "name": "python3"
  },
  "language_info": {
   "codemirror_mode": {
    "name": "ipython",
    "version": 3
   },
   "file_extension": ".py",
   "mimetype": "text/x-python",
   "name": "python",
   "nbconvert_exporter": "python",
   "pygments_lexer": "ipython3",
   "version": "3.9.10"
  },
  "orig_nbformat": 4
 },
 "nbformat": 4,
 "nbformat_minor": 2
}
