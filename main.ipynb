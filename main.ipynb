{
 "cells": [
  {
   "cell_type": "code",
   "execution_count": null,
   "metadata": {},
   "outputs": [],
   "source": [
    "# Coding Design for Decision Tree \n",
    "# Mata kuliah Data Mining \n",
    "# Nur Afan Syarifudin \n",
    "# 4612420004\n",
    "# Sistem Informasi  \n",
    "\n"
   ]
  },
  {
   "cell_type": "code",
   "execution_count": null,
   "metadata": {},
   "outputs": [],
   "source": [
    "# Langkah 1 | Mengamati Dataset \n"
   ]
  },
  {
   "cell_type": "code",
   "execution_count": 18,
   "metadata": {},
   "outputs": [],
   "source": [
    "# Langkah 2 | Import Basic Python Lib \n",
    "\n",
    "import pandas as pd  # import data csv \n",
    "import numpy as np  # perhitungan matematika "
   ]
  },
  {
   "cell_type": "code",
   "execution_count": 3,
   "metadata": {},
   "outputs": [],
   "source": [
    "# import csv \n"
   ]
  },
  {
   "cell_type": "code",
   "execution_count": 17,
   "metadata": {},
   "outputs": [
    {
     "data": {
      "text/html": [
       "<div>\n",
       "<style scoped>\n",
       "    .dataframe tbody tr th:only-of-type {\n",
       "        vertical-align: middle;\n",
       "    }\n",
       "\n",
       "    .dataframe tbody tr th {\n",
       "        vertical-align: top;\n",
       "    }\n",
       "\n",
       "    .dataframe thead th {\n",
       "        text-align: right;\n",
       "    }\n",
       "</style>\n",
       "<table border=\"1\" class=\"dataframe\">\n",
       "  <thead>\n",
       "    <tr style=\"text-align: right;\">\n",
       "      <th></th>\n",
       "      <th>No;Outlook;Temperature;Humidity;Windy;Play</th>\n",
       "    </tr>\n",
       "  </thead>\n",
       "  <tbody>\n",
       "    <tr>\n",
       "      <th>0</th>\n",
       "      <td>1;sunny;hot;high;FALSE;no</td>\n",
       "    </tr>\n",
       "    <tr>\n",
       "      <th>1</th>\n",
       "      <td>2;sunny;hot;high;TRUE;no</td>\n",
       "    </tr>\n",
       "    <tr>\n",
       "      <th>2</th>\n",
       "      <td>3;cloudy;hot;high;FALSE;yes</td>\n",
       "    </tr>\n",
       "    <tr>\n",
       "      <th>3</th>\n",
       "      <td>4;rainy;mild;high;FALSE;yes</td>\n",
       "    </tr>\n",
       "    <tr>\n",
       "      <th>4</th>\n",
       "      <td>5;rainy;cool;normal;FALSE;yes</td>\n",
       "    </tr>\n",
       "  </tbody>\n",
       "</table>\n",
       "</div>"
      ],
      "text/plain": [
       "  No;Outlook;Temperature;Humidity;Windy;Play\n",
       "0                  1;sunny;hot;high;FALSE;no\n",
       "1                   2;sunny;hot;high;TRUE;no\n",
       "2                3;cloudy;hot;high;FALSE;yes\n",
       "3                4;rainy;mild;high;FALSE;yes\n",
       "4              5;rainy;cool;normal;FALSE;yes"
      ]
     },
     "execution_count": 17,
     "metadata": {},
     "output_type": "execute_result"
    }
   ],
   "source": [
    "# Langkah 3 | \n",
    "\n",
    "# with open (\"./Golf.csv\", \"r\") as csvfile: \n",
    "#     reader_variable = csv.reader(csvfile, delimiter=\",\")\n",
    "#     for row in reader_variable:\n",
    "#         print(row)\n",
    "\n",
    "# with open(\"./Golf.csv\", \"r\") as csvfile: \n",
    "#     train_data = csvfile.readlines()\n",
    "#     print(train_data)\n",
    "\n",
    "train_data_m = pd.read_csv(\"Golf.csv\")\n",
    "\n",
    "train_data_m.head()"
   ]
  },
  {
   "cell_type": "code",
   "execution_count": 30,
   "metadata": {},
   "outputs": [],
   "source": [
    "# Langkah 4 | Menghitung total entrpy \n",
    "\n",
    "def hitung_total_entropy(train_data, label, class_list):\n",
    "    total_baris = train_data.shape[0]\n",
    "    total_entropy = 0\n",
    "\n",
    "    for c in class_list: \n",
    "        hitung_total_class = train_data[train_data[label]==c].shape[0]  #jumlah class \n",
    "        total_class_entropy = - (hitung_total_class/total_baris)*np.log2(hitung_total_class/total_baris) # class entropy \n",
    "        total_entropy += total_class_entropy  # menambahkan class entropy ke total_entrpy dari dataset \n",
    "\n",
    "    return total_entropy\n",
    "\n"
   ]
  },
  {
   "cell_type": "code",
   "execution_count": 14,
   "metadata": {},
   "outputs": [],
   "source": [
    "# Langkah 5 | menghitung entopy untuk atribut tertrntu dataset \n",
    "\n",
    "def hitung_entropy(nilai_data, label, class_list):\n",
    "    hitung_class = nilai_data.shape[0]\n",
    "    entropy = 0\n",
    "\n",
    "    for c in class_list:\n",
    "        hitung_label_class = nilai_data[nilai_data[label] ==c].shape[0]  #baris menghitung klass c \n",
    "        entropy_class = 0 \n",
    "        if hitung_label_class != 0:\n",
    "            probability_class = hitung_label_class/hitung_class  #probability class \n",
    "            entropy_class = - probability_class * np.log2(probability_class)  #entropy \n",
    "        entropy += entropy_class\n",
    "    return entropy\n",
    "\n"
   ]
  },
  {
   "cell_type": "code",
   "execution_count": 29,
   "metadata": {},
   "outputs": [],
   "source": [
    "# Langkah 6 | menghitung informaion gain \n",
    "\n",
    "def hitung_info_gain(feature_name, train_data, label, class_list):\n",
    "    feature_value_list = train_data[feature_name].unique()  #unique values of the feature \n",
    "    total_baris = train_data.shape[0]\n",
    "    feature_info = 0.0\n",
    "\n",
    "    for feature_value in feature_value_list:\n",
    "        feature_value_data = train_data[train_data[feature_name] == feature_value]  #filtering row \n",
    "        feature_value_count = feature_value_data.shape[0]\n",
    "        feature_value_entropy = hitung_entropy(feature_value_data, label, class_list)  #menghitung entropy untuk feature value \n",
    "        feature_value_probability = feature_value_count/total_baris\n",
    "        feature_info += feature_value_probability * feature_value_entropy  #menghitung information gain for feature value \n",
    "\n",
    "    return hitung_info_gain(train_data, label, class_list) - feature_info\n",
    "    "
   ]
  },
  {
   "cell_type": "code",
   "execution_count": null,
   "metadata": {},
   "outputs": [],
   "source": [
    "# Langkah 7 | \n"
   ]
  },
  {
   "cell_type": "code",
   "execution_count": null,
   "metadata": {},
   "outputs": [],
   "source": [
    "# Langkah 8 | \n"
   ]
  },
  {
   "cell_type": "code",
   "execution_count": null,
   "metadata": {},
   "outputs": [],
   "source": [
    "# Langkah 9 | \n"
   ]
  },
  {
   "cell_type": "code",
   "execution_count": null,
   "metadata": {},
   "outputs": [],
   "source": [
    "# Langkah 10 | "
   ]
  },
  {
   "cell_type": "code",
   "execution_count": null,
   "metadata": {},
   "outputs": [],
   "source": [
    "# Langkah 11 | \n"
   ]
  },
  {
   "cell_type": "code",
   "execution_count": null,
   "metadata": {},
   "outputs": [],
   "source": [
    "# Langkah 12 | "
   ]
  }
 ],
 "metadata": {
  "interpreter": {
   "hash": "4f8763616d36299a7e67065bbff61b4594b946871d4c1b06c8acd4b8a7e0d76f"
  },
  "kernelspec": {
   "display_name": "Python 3.9.10 64-bit",
   "language": "python",
   "name": "python3"
  },
  "language_info": {
   "name": "python",
   "version": "3.9.10"
  },
  "orig_nbformat": 4
 },
 "nbformat": 4,
 "nbformat_minor": 2
}
